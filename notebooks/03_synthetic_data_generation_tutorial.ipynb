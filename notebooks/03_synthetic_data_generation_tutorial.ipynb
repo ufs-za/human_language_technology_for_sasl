{
 "cells": [
  {
   "cell_type": "markdown",
   "id": "5f3e77d4",
   "metadata": {},
   "source": [
    "# Synthetic Sign Data Augmentation with OpenCV"
   ]
  },
  {
   "cell_type": "code",
   "execution_count": null,
   "id": "7841e3bb",
   "metadata": {},
   "outputs": [],
   "source": [
    "\n",
    "In this tutorial, you'll learn how to generate synthetic data for sign language recognition tasks.\n",
    "We’ll apply basic augmentation techniques such as rotation, flipping, and brightness adjustments.\n",
    "\n",
    "### Objectives:\n",
    "- Load sample SASL image data\n",
    "- Apply basic augmentation techniques using OpenCV\n",
    "- Save augmented samples for training\n"
   ]
  },
  {
   "cell_type": "code",
   "execution_count": null,
   "id": "857096e1",
   "metadata": {},
   "outputs": [],
   "source": [
    "# Step 1: Import required libraries\n",
    "import cv2\n",
    "import numpy as np\n",
    "from pathlib import Path\n",
    "import os\n",
    "from matplotlib import pyplot as plt\n"
   ]
  },
  {
   "cell_type": "code",
   "execution_count": null,
   "id": "5c07b48a",
   "metadata": {},
   "outputs": [],
   "source": [
    "# Step 2: Define helper functions for augmentations\n",
    "\n",
    "def rotate_image(image, angle):\n",
    "    (h, w) = image.shape[:2]\n",
    "    center = (w // 2, h // 2)\n",
    "    M = cv2.getRotationMatrix2D(center, angle, 1.0)\n",
    "    return cv2.warpAffine(image, M, (w, h))\n",
    "\n",
    "def flip_image(image):\n",
    "    return cv2.flip(image, 1)\n",
    "\n",
    "def adjust_brightness(image, factor=1.2):\n",
    "    hsv = cv2.cvtColor(image, cv2.COLOR_BGR2HSV)\n",
    "    hsv[:,:,2] = cv2.multiply(hsv[:,:,2], factor)\n",
    "    return cv2.cvtColor(hsv, cv2.COLOR_HSV2BGR)\n"
   ]
  },
  {
   "cell_type": "code",
   "execution_count": null,
   "id": "12f4f124",
   "metadata": {},
   "outputs": [],
   "source": [
    "# Step 3: Load and display a sample image\n",
    "\n",
    "# Replace with the path to your sample image\n",
    "sample_image_path = '../images/sample_sign.jpg'\n",
    "image = cv2.imread(sample_image_path)\n",
    "\n",
    "if image is not None:\n",
    "    plt.imshow(cv2.cvtColor(image, cv2.COLOR_BGR2RGB))\n",
    "    plt.title('Original Image')\n",
    "    plt.axis('off')\n",
    "    plt.show()\n",
    "else:\n",
    "    print(\"Image not found. Please check the path.\")\n"
   ]
  },
  {
   "cell_type": "code",
   "execution_count": null,
   "id": "cb3b925c",
   "metadata": {},
   "outputs": [],
   "source": [
    "# Step 4: Generate synthetic variants\n",
    "\n",
    "if image is not None:\n",
    "    rotated = rotate_image(image, 25)\n",
    "    flipped = flip_image(image)\n",
    "    bright = adjust_brightness(image, 1.5)\n",
    "\n",
    "    fig, axs = plt.subplots(1, 3, figsize=(15,5))\n",
    "    axs[0].imshow(cv2.cvtColor(rotated, cv2.COLOR_BGR2RGB))\n",
    "    axs[0].set_title('Rotated')\n",
    "\n",
    "    axs[1].imshow(cv2.cvtColor(flipped, cv2.COLOR_BGR2RGB))\n",
    "    axs[1].set_title('Flipped')\n",
    "\n",
    "    axs[2].imshow(cv2.cvtColor(bright, cv2.COLOR_BGR2RGB))\n",
    "    axs[2].set_title('Brightened')\n",
    "\n",
    "    for ax in axs:\n",
    "        ax.axis('off')\n",
    "    plt.tight_layout()\n",
    "    plt.show()\n"
   ]
  },
  {
   "cell_type": "code",
   "execution_count": null,
   "id": "0a0ffa3f",
   "metadata": {},
   "outputs": [],
   "source": [
    "# Step 5: Save augmented images\n",
    "\n",
    "output_dir = Path('augmented_images')\n",
    "output_dir.mkdir(exist_ok=True)\n",
    "\n",
    "cv2.imwrite(str(output_dir / 'rotated.jpg'), rotated)\n",
    "cv2.imwrite(str(output_dir / 'flipped.jpg'), flipped)\n",
    "cv2.imwrite(str(output_dir / 'bright.jpg'), bright)\n",
    "\n",
    "print(\"Augmented images saved in:\", output_dir)\n"
   ]
  }
 ],
 "metadata": {},
 "nbformat": 4,
 "nbformat_minor": 5
}
