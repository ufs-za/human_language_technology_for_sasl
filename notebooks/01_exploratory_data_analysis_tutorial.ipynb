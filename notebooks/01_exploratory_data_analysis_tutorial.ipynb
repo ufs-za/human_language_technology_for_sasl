{
 "cells": [
  {
   "cell_type": "markdown",
   "id": "665601f8",
   "metadata": {},
   "source": [
    "# Exploratory Data Analysis on SASL Glossed Dataset"
   ]
  },
  {
   "cell_type": "code",
   "execution_count": null,
   "id": "8a35a6fc",
   "metadata": {},
   "outputs": [],
   "source": [
    "\n",
    "This tutorial walks you through basic exploratory data analysis (EDA) for a South African Sign Language (SASL) dataset.\n",
    "We will load the data, inspect its structure, and visualise gloss frequency.\n",
    "\n",
    "### Objectives:\n",
    "- Understand the structure of a SASL gloss dataset\n",
    "- Perform basic summary statistics\n",
    "- Visualise common glosses and signer metadata\n"
   ]
  },
  {
   "cell_type": "code",
   "execution_count": null,
   "id": "b73bc377",
   "metadata": {},
   "outputs": [],
   "source": [
    "# Step 1: Import required libraries\n",
    "import pandas as pd\n",
    "import matplotlib.pyplot as plt\n",
    "import seaborn as sns\n",
    "\n",
    "# Enable inline plotting\n",
    "%matplotlib inline\n"
   ]
  },
  {
   "cell_type": "code",
   "execution_count": null,
   "id": "78da5e93",
   "metadata": {},
   "outputs": [],
   "source": [
    "# Step 2: Load the dataset\n",
    "# Make sure the CSV file is in the expected path or update the path accordingly\n",
    "\n",
    "df = pd.read_csv('../data/sasl_dataset.csv')\n",
    "df.head()"
   ]
  },
  {
   "cell_type": "code",
   "execution_count": null,
   "id": "5cdddabb",
   "metadata": {},
   "outputs": [],
   "source": [
    "# Step 3: Get a summary of the dataset\n",
    "print(\"Dataset Shape:\", df.shape)\n",
    "print(\"\\nColumn Names:\", df.columns.tolist())\n",
    "df.describe(include='all')"
   ]
  },
  {
   "cell_type": "code",
   "execution_count": null,
   "id": "0bd4ab29",
   "metadata": {},
   "outputs": [],
   "source": [
    "# Step 4: Check for missing values\n",
    "df.isnull().sum()"
   ]
  },
  {
   "cell_type": "code",
   "execution_count": null,
   "id": "11eb647f",
   "metadata": {},
   "outputs": [],
   "source": [
    "# Step 5: Visualise frequency of glosses\n",
    "# This shows the most frequently occurring gloss labels in the dataset\n",
    "\n",
    "plt.figure(figsize=(14,6))\n",
    "gloss_counts = df['gloss'].value_counts().head(20)\n",
    "sns.barplot(x=gloss_counts.values, y=gloss_counts.index, palette='viridis')\n",
    "plt.title('Top 20 Most Frequent Glosses')\n",
    "plt.xlabel('Frequency')\n",
    "plt.ylabel('Gloss Label')\n",
    "plt.tight_layout()\n",
    "plt.show()"
   ]
  },
  {
   "cell_type": "code",
   "execution_count": null,
   "id": "161d8081",
   "metadata": {},
   "outputs": [],
   "source": [
    "# Step 6: (Optional) Explore signer demographics if available\n",
    "if 'signer_id' in df.columns:\n",
    "    plt.figure(figsize=(8,5))\n",
    "    df['signer_id'].value_counts().plot(kind='bar')\n",
    "    plt.title('Signer Distribution')\n",
    "    plt.xlabel('Signer ID')\n",
    "    plt.ylabel('Count')\n",
    "    plt.show()"
   ]
  }
 ],
 "metadata": {},
 "nbformat": 4,
 "nbformat_minor": 5
}
