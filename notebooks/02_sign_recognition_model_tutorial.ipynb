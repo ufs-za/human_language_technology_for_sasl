{
 "cells": [
  {
   "cell_type": "markdown",
   "id": "859a3255",
   "metadata": {},
   "source": [
    "# Sign Recognition Model Using CNN + LSTM"
   ]
  },
  {
   "cell_type": "code",
   "execution_count": null,
   "id": "1c7b8b57",
   "metadata": {},
   "outputs": [],
   "source": [
    "\n",
    "In this tutorial, we'll build a basic deep learning model to classify South African Sign Language (SASL) signs.\n",
    "We assume you have preprocessed video frames or extracted features suitable for training.\n",
    "\n",
    "### Objectives:\n",
    "- Construct a CNN to extract spatial features from frames\n",
    "- Integrate with an LSTM to capture temporal sequences\n",
    "- Train and evaluate a classification model\n"
   ]
  },
  {
   "cell_type": "code",
   "execution_count": null,
   "id": "c32e18ab",
   "metadata": {},
   "outputs": [],
   "source": [
    "# Step 1: Import required libraries\n",
    "import tensorflow as tf\n",
    "from tensorflow.keras.models import Sequential\n",
    "from tensorflow.keras.layers import Conv2D, MaxPooling2D, Flatten, LSTM, Dense, TimeDistributed\n",
    "from tensorflow.keras.optimizers import Adam\n",
    "import numpy as np\n"
   ]
  },
  {
   "cell_type": "code",
   "execution_count": null,
   "id": "2dc6eb15",
   "metadata": {},
   "outputs": [],
   "source": [
    "# Step 2: Load your data\n",
    "# You need preprocessed input of shape (samples, time_steps, height, width, channels)\n",
    "# For tutorial purposes, we simulate dummy data\n",
    "\n",
    "num_samples = 100\n",
    "time_steps = 10\n",
    "height, width, channels = 64, 64, 1\n",
    "num_classes = 5\n",
    "\n",
    "X = np.random.rand(num_samples, time_steps, height, width, channels)\n",
    "y = tf.keras.utils.to_categorical(np.random.randint(0, num_classes, size=(num_samples,)), num_classes)\n"
   ]
  },
  {
   "cell_type": "code",
   "execution_count": null,
   "id": "0fde2e56",
   "metadata": {},
   "outputs": [],
   "source": [
    "# Step 3: Build the CNN + LSTM model\n",
    "\n",
    "model = Sequential([\n",
    "    TimeDistributed(Conv2D(32, (3,3), activation='relu'), input_shape=(time_steps, height, width, channels)),\n",
    "    TimeDistributed(MaxPooling2D((2,2))),\n",
    "    TimeDistributed(Flatten()),\n",
    "    LSTM(64),\n",
    "    Dense(num_classes, activation='softmax')\n",
    "])\n",
    "\n",
    "model.compile(optimizer=Adam(), loss='categorical_crossentropy', metrics=['accuracy'])\n",
    "model.summary()"
   ]
  },
  {
   "cell_type": "code",
   "execution_count": null,
   "id": "0d517a35",
   "metadata": {},
   "outputs": [],
   "source": [
    "# Step 4: Train the model\n",
    "# This example uses synthetic data for illustration\n",
    "\n",
    "history = model.fit(X, y, epochs=5, batch_size=8, validation_split=0.2)"
   ]
  },
  {
   "cell_type": "code",
   "execution_count": null,
   "id": "4b5607b7",
   "metadata": {},
   "outputs": [],
   "source": [
    "# Step 5: Evaluate the model\n",
    "\n",
    "loss, acc = model.evaluate(X, y)\n",
    "print(f\"Test Accuracy: {acc*100:.2f}%\")"
   ]
  },
  {
   "cell_type": "code",
   "execution_count": null,
   "id": "a1d018e2",
   "metadata": {},
   "outputs": [],
   "source": [
    "# Step 6: Save the model checkpoint\n",
    "\n",
    "model.save('sign_recognition_cnn_lstm.h5')"
   ]
  }
 ],
 "metadata": {},
 "nbformat": 4,
 "nbformat_minor": 5
}
