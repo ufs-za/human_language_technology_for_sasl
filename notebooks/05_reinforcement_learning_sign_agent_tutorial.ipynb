{
 "cells": [
  {
   "cell_type": "markdown",
   "id": "a2dc3f78",
   "metadata": {},
   "source": [
    "# Reinforcement Learning Agent for SASL Sign Learning Simulation"
   ]
  },
  {
   "cell_type": "code",
   "execution_count": null,
   "id": "ef36d24e",
   "metadata": {},
   "outputs": [],
   "source": [
    "\n",
    "In this tutorial, we simulate an agent learning SASL signs through reinforcement learning (RL).\n",
    "We'll define basic RL components and use a Q-learning setup to simulate learning a sequence of signs.\n",
    "\n",
    "### Objectives:\n",
    "- Define states, actions, and rewards\n",
    "- Implement a Q-learning loop\n",
    "- Visualise learning progress\n"
   ]
  },
  {
   "cell_type": "code",
   "execution_count": null,
   "id": "043ebe25",
   "metadata": {},
   "outputs": [],
   "source": [
    "# Step 1: Import required libraries\n",
    "import numpy as np\n",
    "import matplotlib.pyplot as plt\n"
   ]
  },
  {
   "cell_type": "code",
   "execution_count": null,
   "id": "93d4f210",
   "metadata": {},
   "outputs": [],
   "source": [
    "# Step 2: Define environment parameters\n",
    "\n",
    "# States: hand shapes (0-4)\n",
    "# Actions: sign transitions (0-4)\n",
    "# Rewards: +1 for correct transition, 0 otherwise\n",
    "\n",
    "num_states = 5\n",
    "num_actions = 5\n",
    "q_table = np.zeros((num_states, num_actions))\n",
    "learning_rate = 0.1\n",
    "discount_factor = 0.95\n",
    "exploration_rate = 1.0\n",
    "exploration_decay = 0.99\n",
    "episodes = 100\n",
    "\n",
    "# Define the correct transition for simplicity (ideal mapping)\n",
    "correct_action = [0, 1, 2, 3, 4]\n"
   ]
  },
  {
   "cell_type": "code",
   "execution_count": null,
   "id": "d301a453",
   "metadata": {},
   "outputs": [],
   "source": [
    "# Step 3: Q-learning training loop\n",
    "\n",
    "rewards = []\n",
    "\n",
    "for episode in range(episodes):\n",
    "    state = np.random.randint(0, num_states)\n",
    "    total_reward = 0\n",
    "\n",
    "    for step in range(10):  # Max steps per episode\n",
    "        if np.random.rand() < exploration_rate:\n",
    "            action = np.random.randint(0, num_actions)\n",
    "        else:\n",
    "            action = np.argmax(q_table[state])\n",
    "\n",
    "        reward = 1 if action == correct_action[state] else 0\n",
    "        next_state = (state + 1) % num_states\n",
    "\n",
    "        old_value = q_table[state, action]\n",
    "        next_max = np.max(q_table[next_state])\n",
    "\n",
    "        # Q-learning update\n",
    "        new_value = old_value + learning_rate * (reward + discount_factor * next_max - old_value)\n",
    "        q_table[state, action] = new_value\n",
    "\n",
    "        state = next_state\n",
    "        total_reward += reward\n",
    "\n",
    "    exploration_rate *= exploration_decay\n",
    "    rewards.append(total_reward)\n"
   ]
  },
  {
   "cell_type": "code",
   "execution_count": null,
   "id": "69dbf729",
   "metadata": {},
   "outputs": [],
   "source": [
    "# Step 4: Plot the reward over time\n",
    "\n",
    "plt.plot(rewards)\n",
    "plt.xlabel('Episode')\n",
    "plt.ylabel('Total Reward')\n",
    "plt.title('RL Agent Learning Progress')\n",
    "plt.grid(True)\n",
    "plt.show()"
   ]
  },
  {
   "cell_type": "code",
   "execution_count": null,
   "id": "5b28c185",
   "metadata": {},
   "outputs": [],
   "source": [
    "# Step 5: Inspect the final Q-table\n",
    "\n",
    "print(\"Learned Q-Table:\")\n",
    "print(q_table)\n"
   ]
  }
 ],
 "metadata": {},
 "nbformat": 4,
 "nbformat_minor": 5
}
