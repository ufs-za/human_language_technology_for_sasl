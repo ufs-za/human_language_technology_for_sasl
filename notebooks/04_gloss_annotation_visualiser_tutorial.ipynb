{
 "cells": [
  {
   "cell_type": "markdown",
   "id": "bc57efc8",
   "metadata": {},
   "source": [
    "# Gloss Annotation Timeline and Frequency Visualiser"
   ]
  },
  {
   "cell_type": "code",
   "execution_count": null,
   "id": "2fb8acb4",
   "metadata": {},
   "outputs": [],
   "source": [
    "\n",
    "This tutorial helps you visualise annotated glosses in your SASL dataset.\n",
    "We will explore gloss frequency distributions and generate a timeline of glosses over time per video.\n",
    "\n",
    "### Objectives:\n",
    "- Visualise most frequent glosses\n",
    "- Explore gloss usage per video/timestamp\n",
    "- Plot timelines and gloss distributions\n"
   ]
  },
  {
   "cell_type": "code",
   "execution_count": null,
   "id": "934f119f",
   "metadata": {},
   "outputs": [],
   "source": [
    "# Step 1: Import required libraries\n",
    "import pandas as pd\n",
    "import matplotlib.pyplot as plt\n",
    "import seaborn as sns\n",
    "import plotly.express as px\n"
   ]
  },
  {
   "cell_type": "code",
   "execution_count": null,
   "id": "bc9511cc",
   "metadata": {},
   "outputs": [],
   "source": [
    "# Step 2: Load the gloss annotation dataset\n",
    "\n",
    "# Update the path to your dataset file\n",
    "df = pd.read_csv('../data/sasl_gloss_annotations.csv')\n",
    "df.head()"
   ]
  },
  {
   "cell_type": "code",
   "execution_count": null,
   "id": "bef2b9c4",
   "metadata": {},
   "outputs": [],
   "source": [
    "# Step 3: Frequency of gloss labels\n",
    "\n",
    "plt.figure(figsize=(14, 6))\n",
    "gloss_freq = df['gloss'].value_counts().head(20)\n",
    "sns.barplot(x=gloss_freq.values, y=gloss_freq.index, palette='magma')\n",
    "plt.title('Top 20 Gloss Labels')\n",
    "plt.xlabel('Frequency')\n",
    "plt.ylabel('Gloss')\n",
    "plt.tight_layout()\n",
    "plt.show()"
   ]
  },
  {
   "cell_type": "code",
   "execution_count": null,
   "id": "99bc96b1",
   "metadata": {},
   "outputs": [],
   "source": [
    "# Step 4: Plot gloss timelines for a single video (if applicable)\n",
    "\n",
    "# Example: plot gloss occurrences for one video ID\n",
    "if 'video_id' in df.columns and 'timestamp' in df.columns:\n",
    "    sample_video = df['video_id'].unique()[0]\n",
    "    video_df = df[df['video_id'] == sample_video]\n",
    "\n",
    "    fig = px.scatter(video_df, x='timestamp', y='gloss', title=f'Gloss Timeline for Video {sample_video}',\n",
    "                     labels={'timestamp': 'Time (s)', 'gloss': 'Gloss Label'})\n",
    "    fig.show()\n",
    "else:\n",
    "    print(\"Required columns (video_id, timestamp) not found.\")\n"
   ]
  },
  {
   "cell_type": "code",
   "execution_count": null,
   "id": "1755310c",
   "metadata": {},
   "outputs": [],
   "source": [
    "# Step 5: (Optional) Heatmap of glosses by signer (if signer_id is available)\n",
    "\n",
    "if 'signer_id' in df.columns:\n",
    "    gloss_signer_matrix = pd.crosstab(df['signer_id'], df['gloss'])\n",
    "    plt.figure(figsize=(14, 6))\n",
    "    sns.heatmap(gloss_signer_matrix.loc[:, gloss_signer_matrix.columns[:20]], cmap='YlGnBu', linewidths=0.5)\n",
    "    plt.title('Heatmap of Gloss Frequency by Signer')\n",
    "    plt.xlabel('Gloss')\n",
    "    plt.ylabel('Signer ID')\n",
    "    plt.tight_layout()\n",
    "    plt.show()\n"
   ]
  }
 ],
 "metadata": {},
 "nbformat": 4,
 "nbformat_minor": 5
}
