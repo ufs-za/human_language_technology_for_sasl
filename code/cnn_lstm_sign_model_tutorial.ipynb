{
 "cells": [
  {
   "cell_type": "markdown",
   "id": "8d24f7dc",
   "metadata": {},
   "source": [
    "# Build a CNN + LSTM Model for SASL Sign Recognition"
   ]
  },
  {
   "cell_type": "code",
   "execution_count": null,
   "id": "ead49b35",
   "metadata": {},
   "outputs": [],
   "source": [
    "\n",
    "In this tutorial, we will define a hybrid deep learning architecture combining\n",
    "Convolutional Neural Networks (CNNs) for spatial feature extraction with\n",
    "Long Short-Term Memory (LSTM) layers for temporal modelling of sign sequences.\n",
    "\n",
    "### Objectives:\n",
    "- Define CNN layers for feature extraction\n",
    "- Stack LSTM layers to process sequences of frames\n",
    "- Build a multi-frame sign classifier\n"
   ]
  },
  {
   "cell_type": "code",
   "execution_count": null,
   "id": "5718d47e",
   "metadata": {},
   "outputs": [],
   "source": [
    "# Step 1: Import libraries\n",
    "import tensorflow as tf\n",
    "from tensorflow.keras.models import Sequential\n",
    "from tensorflow.keras.layers import TimeDistributed, Conv2D, MaxPooling2D, Flatten, LSTM, Dense\n"
   ]
  },
  {
   "cell_type": "code",
   "execution_count": null,
   "id": "ce211cf7",
   "metadata": {},
   "outputs": [],
   "source": [
    "# Step 2: Define model parameters\n",
    "\n",
    "img_height, img_width = 64, 64\n",
    "num_frames = 10\n",
    "channels = 1\n",
    "num_classes = 20  # Update based on your dataset\n",
    "\n",
    "input_shape = (num_frames, img_height, img_width, channels)\n"
   ]
  },
  {
   "cell_type": "code",
   "execution_count": null,
   "id": "7fd828ba",
   "metadata": {},
   "outputs": [],
   "source": [
    "# Step 3: Build the CNN + LSTM model\n",
    "\n",
    "model = Sequential([\n",
    "    TimeDistributed(Conv2D(32, (3, 3), activation='relu'), input_shape=input_shape),\n",
    "    TimeDistributed(MaxPooling2D((2, 2))),\n",
    "    TimeDistributed(Conv2D(64, (3, 3), activation='relu')),\n",
    "    TimeDistributed(MaxPooling2D((2, 2))),\n",
    "    TimeDistributed(Flatten()),\n",
    "    LSTM(128, return_sequences=False),\n",
    "    Dense(64, activation='relu'),\n",
    "    Dense(num_classes, activation='softmax')\n",
    "])\n",
    "\n",
    "model.compile(optimizer='adam', loss='categorical_crossentropy', metrics=['accuracy'])\n",
    "model.summary()\n"
   ]
  },
  {
   "cell_type": "code",
   "execution_count": null,
   "id": "e52b5190",
   "metadata": {},
   "outputs": [],
   "source": [
    "# Step 4: (Optional) Save the model definition\n",
    "\n",
    "model_path = 'cnn_lstm_sign_model.h5'\n",
    "model.save(model_path)\n",
    "print(f\"Model architecture saved to {model_path}\")\n"
   ]
  }
 ],
 "metadata": {},
 "nbformat": 4,
 "nbformat_minor": 5
}
