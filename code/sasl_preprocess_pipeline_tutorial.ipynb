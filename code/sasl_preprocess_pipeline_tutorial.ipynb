{
 "cells": [
  {
   "cell_type": "markdown",
   "id": "8ffbd495",
   "metadata": {},
   "source": [
    "# SASL Preprocessing Pipeline: Frames, Resizing, and Alignment"
   ]
  },
  {
   "cell_type": "code",
   "execution_count": null,
   "id": "5e23558a",
   "metadata": {},
   "outputs": [],
   "source": [
    "\n",
    "This notebook brings together multiple preprocessing steps:\n",
    "1. Extract frames from video\n",
    "2. Resize and normalise them\n",
    "3. Align gloss annotations with frame files\n",
    "\n",
    "### Objectives:\n",
    "- Apply preprocessing in one reproducible pipeline\n",
    "- Organise outputs for model training\n",
    "- Save frame-gloss alignment table\n"
   ]
  },
  {
   "cell_type": "code",
   "execution_count": null,
   "id": "5a46ad05",
   "metadata": {},
   "outputs": [],
   "source": [
    "# Step 1: Import required libraries\n",
    "import cv2\n",
    "import os\n",
    "import pandas as pd\n",
    "from pathlib import Path\n"
   ]
  },
  {
   "cell_type": "code",
   "execution_count": null,
   "id": "9d6dd150",
   "metadata": {},
   "outputs": [],
   "source": [
    "# Step 2: Define frame extraction function\n",
    "\n",
    "def extract_frames(video_path, output_folder, frame_rate=5):\n",
    "    cap = cv2.VideoCapture(str(video_path))\n",
    "    success, frame = cap.read()\n",
    "    count, saved = 0, 0\n",
    "    output_folder = Path(output_folder)\n",
    "    output_folder.mkdir(parents=True, exist_ok=True)\n",
    "\n",
    "    while success:\n",
    "        if int(cap.get(1)) % frame_rate == 0:\n",
    "            filename = output_folder / f\"frame_{saved:04d}.jpg\"\n",
    "            cv2.imwrite(str(filename), frame)\n",
    "            saved += 1\n",
    "        success, frame = cap.read()\n",
    "        count += 1\n",
    "    cap.release()\n",
    "    print(f\"Extracted {saved} frames from {video_path.name}\")\n"
   ]
  },
  {
   "cell_type": "code",
   "execution_count": null,
   "id": "5f4338e3",
   "metadata": {},
   "outputs": [],
   "source": [
    "# Step 3: Define resizing and normalisation function\n",
    "\n",
    "def resize_and_normalise(image_path, output_path, size=(64, 64)):\n",
    "    img = cv2.imread(str(image_path))\n",
    "    if img is None:\n",
    "        print(f\"Error loading image: {image_path}\")\n",
    "        return\n",
    "    img_gray = cv2.cvtColor(img, cv2.COLOR_BGR2GRAY)\n",
    "    img_resized = cv2.resize(img_gray, size)\n",
    "    img_normalised = (img_resized / 255.0 * 255).astype('uint8')\n",
    "    output_path.parent.mkdir(parents=True, exist_ok=True)\n",
    "    cv2.imwrite(str(output_path), img_normalised)\n"
   ]
  },
  {
   "cell_type": "code",
   "execution_count": null,
   "id": "73c294dc",
   "metadata": {},
   "outputs": [],
   "source": [
    "# Step 4: Define gloss alignment function\n",
    "\n",
    "def align_glosses(annotation_csv, frame_dir, frame_rate=5):\n",
    "    df_anno = pd.read_csv(annotation_csv)\n",
    "    frame_files = sorted(Path(frame_dir).glob('*.jpg'))\n",
    "    frame_times = [i / frame_rate for i in range(len(frame_files))]\n",
    "    aligned = pd.DataFrame({'frame_file': [f.name for f in frame_files], 'timestamp': frame_times})\n",
    "    aligned['gloss'] = None\n",
    "\n",
    "    for _, row in df_anno.iterrows():\n",
    "        idx = min(range(len(frame_times)), key=lambda i: abs(frame_times[i] - row['timestamp']))\n",
    "        aligned.at[idx, 'gloss'] = row['gloss']\n",
    "\n",
    "    aligned['gloss'].fillna(method='ffill', inplace=True)\n",
    "    return aligned\n"
   ]
  },
  {
   "cell_type": "code",
   "execution_count": null,
   "id": "683f43d5",
   "metadata": {},
   "outputs": [],
   "source": [
    "# Step 5: Run the full pipeline\n",
    "\n",
    "video_path = Path('../data/videos/sample_video.mp4')\n",
    "frame_dir = Path('../data/frames/sample_video')\n",
    "resized_dir = Path('../data/processed_images/sample_video')\n",
    "annotation_csv = Path('../data/annotations/sample_video_annotations.csv')\n",
    "output_csv = Path('../data/processed_alignments/sample_video_pipeline_output.csv')\n",
    "\n",
    "extract_frames(video_path, frame_dir, frame_rate=5)\n",
    "\n",
    "for img_file in frame_dir.glob('*.jpg'):\n",
    "    resize_and_normalise(img_file, resized_dir / img_file.name)\n",
    "\n",
    "alignment = align_glosses(annotation_csv, frame_dir, frame_rate=5)\n",
    "output_csv.parent.mkdir(exist_ok=True, parents=True)\n",
    "alignment.to_csv(output_csv, index=False)\n",
    "\n",
    "print(f\"Preprocessing complete. Alignment saved to {output_csv}\")\n"
   ]
  }
 ],
 "metadata": {},
 "nbformat": 4,
 "nbformat_minor": 5
}
