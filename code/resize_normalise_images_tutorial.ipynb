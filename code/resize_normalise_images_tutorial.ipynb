{
 "cells": [
  {
   "cell_type": "markdown",
   "id": "e754b5fb",
   "metadata": {},
   "source": [
    "# Resize and Normalise SASL Images"
   ]
  },
  {
   "cell_type": "code",
   "execution_count": null,
   "id": "7ac6744b",
   "metadata": {},
   "outputs": [],
   "source": [
    "\n",
    "This notebook provides a tutorial for resizing and normalising images\n",
    "in your SASL dataset. Standard image dimensions and pixel scaling are\n",
    "important for model training consistency.\n",
    "\n",
    "### Objectives:\n",
    "- Resize images to a fixed shape (e.g., 64x64)\n",
    "- Convert to grayscale (if needed)\n",
    "- Normalise pixel values to [0, 1]\n",
    "- Save the processed images\n"
   ]
  },
  {
   "cell_type": "code",
   "execution_count": null,
   "id": "576e1788",
   "metadata": {},
   "outputs": [],
   "source": [
    "# Step 1: Import required libraries\n",
    "import cv2\n",
    "import os\n",
    "from pathlib import Path\n",
    "from matplotlib import pyplot as plt\n"
   ]
  },
  {
   "cell_type": "code",
   "execution_count": null,
   "id": "837ab033",
   "metadata": {},
   "outputs": [],
   "source": [
    "# Step 2: Define the image processing function\n",
    "\n",
    "def resize_and_normalise(image_path, output_path, size=(64, 64), to_gray=True):\n",
    "    img = cv2.imread(str(image_path))\n",
    "    if img is None:\n",
    "        print(f\"Failed to read image: {image_path}\")\n",
    "        return\n",
    "\n",
    "    if to_gray:\n",
    "        img = cv2.cvtColor(img, cv2.COLOR_BGR2GRAY)\n",
    "\n",
    "    resized_img = cv2.resize(img, size)\n",
    "    normalised_img = resized_img / 255.0\n",
    "\n",
    "    output_path = Path(output_path)\n",
    "    output_path.parent.mkdir(parents=True, exist_ok=True)\n",
    "    # Scale back to [0, 255] and save as uint8\n",
    "    cv2.imwrite(str(output_path), (normalised_img * 255).astype('uint8'))\n",
    "\n",
    "    return normalised_img\n"
   ]
  },
  {
   "cell_type": "code",
   "execution_count": null,
   "id": "8fc262bd",
   "metadata": {},
   "outputs": [],
   "source": [
    "# Step 3: Apply the function to a sample image\n",
    "\n",
    "input_img = Path('../data/frames/sample_video/frame_0001.jpg')\n",
    "output_img = Path('../data/processed_images/frame_0001_resized.jpg')\n",
    "\n",
    "norm_img = resize_and_normalise(input_img, output_img)\n",
    "\n",
    "# Show result\n",
    "plt.imshow(norm_img, cmap='gray')\n",
    "plt.title('Resized and Normalised Image')\n",
    "plt.axis('off')\n",
    "plt.show()\n"
   ]
  },
  {
   "cell_type": "code",
   "execution_count": null,
   "id": "27410dc2",
   "metadata": {},
   "outputs": [],
   "source": [
    "# Step 4: Batch process a folder of frames\n",
    "\n",
    "input_dir = Path('../data/frames/sample_video')\n",
    "output_dir = Path('../data/processed_images/sample_video')\n",
    "\n",
    "for image_file in input_dir.glob('*.jpg'):\n",
    "    out_file = output_dir / image_file.name\n",
    "    resize_and_normalise(image_file, out_file)\n",
    "print(\"Batch processing complete.\")\n"
   ]
  }
 ],
 "metadata": {},
 "nbformat": 4,
 "nbformat_minor": 5
}
