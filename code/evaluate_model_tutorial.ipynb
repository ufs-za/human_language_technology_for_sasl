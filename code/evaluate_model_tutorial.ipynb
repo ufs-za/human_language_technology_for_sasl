{
 "cells": [
  {
   "cell_type": "markdown",
   "id": "2df254db",
   "metadata": {},
   "source": [
    "# Evaluate a SASL Sign Recognition Model"
   ]
  },
  {
   "cell_type": "code",
   "execution_count": null,
   "id": "13ebba56",
   "metadata": {},
   "outputs": [],
   "source": [
    "\n",
    "In this notebook, we evaluate a trained CNN+LSTM model for SASL sign classification.\n",
    "We will generate metrics such as accuracy, confusion matrix, and classification report.\n",
    "\n",
    "### Objectives:\n",
    "- Load a trained model\n",
    "- Evaluate predictions on test data\n",
    "- Generate performance metrics and visualisations\n"
   ]
  },
  {
   "cell_type": "code",
   "execution_count": null,
   "id": "aea26259",
   "metadata": {},
   "outputs": [],
   "source": [
    "# Step 1: Import libraries\n",
    "import numpy as np\n",
    "import tensorflow as tf\n",
    "from sklearn.metrics import classification_report, confusion_matrix\n",
    "import seaborn as sns\n",
    "import matplotlib.pyplot as plt\n"
   ]
  },
  {
   "cell_type": "code",
   "execution_count": null,
   "id": "d9858346",
   "metadata": {},
   "outputs": [],
   "source": [
    "# Step 2: Load trained model and test data\n",
    "\n",
    "model = tf.keras.models.load_model('trained_sasl_sign_model.h5')\n",
    "\n",
    "# Simulate test data (ensure same shape and label set)\n",
    "num_samples = 20\n",
    "time_steps = 10\n",
    "height, width, channels = 64, 64, 1\n",
    "num_classes = 20\n",
    "\n",
    "X_test = np.random.rand(num_samples, time_steps, height, width, channels)\n",
    "y_true = np.random.randint(0, num_classes, size=(num_samples,))\n",
    "y_test = tf.keras.utils.to_categorical(y_true, num_classes)\n"
   ]
  },
  {
   "cell_type": "code",
   "execution_count": null,
   "id": "0f518cbe",
   "metadata": {},
   "outputs": [],
   "source": [
    "# Step 3: Predict and decode predictions\n",
    "\n",
    "y_pred = model.predict(X_test)\n",
    "y_pred_classes = np.argmax(y_pred, axis=1)\n",
    "y_true_classes = np.argmax(y_test, axis=1)\n"
   ]
  },
  {
   "cell_type": "code",
   "execution_count": null,
   "id": "24110117",
   "metadata": {},
   "outputs": [],
   "source": [
    "# Step 4: Print classification report\n",
    "\n",
    "print(\"Classification Report:\")\n",
    "print(classification_report(y_true_classes, y_pred_classes))"
   ]
  },
  {
   "cell_type": "code",
   "execution_count": null,
   "id": "9f824209",
   "metadata": {},
   "outputs": [],
   "source": [
    "# Step 5: Plot confusion matrix\n",
    "\n",
    "cm = confusion_matrix(y_true_classes, y_pred_classes)\n",
    "plt.figure(figsize=(10, 8))\n",
    "sns.heatmap(cm, annot=True, fmt='d', cmap='Blues')\n",
    "plt.title('Confusion Matrix')\n",
    "plt.xlabel('Predicted')\n",
    "plt.ylabel('Actual')\n",
    "plt.show()\n"
   ]
  }
 ],
 "metadata": {},
 "nbformat": 4,
 "nbformat_minor": 5
}
