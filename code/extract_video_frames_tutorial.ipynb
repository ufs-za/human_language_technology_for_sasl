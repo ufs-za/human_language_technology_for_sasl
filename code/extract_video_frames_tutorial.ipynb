{
 "cells": [
  {
   "cell_type": "markdown",
   "id": "035af85c",
   "metadata": {},
   "source": [
    "# Extract Video Frames for SASL Dataset"
   ]
  },
  {
   "cell_type": "code",
   "execution_count": null,
   "id": "828a33b3",
   "metadata": {},
   "outputs": [],
   "source": [
    "\n",
    "In this notebook, we'll walk through extracting frames from SASL video data.\n",
    "Each frame will be saved to a target directory for use in sign recognition models.\n",
    "\n",
    "### Objectives:\n",
    "- Load video files\n",
    "- Extract and save frames at a regular interval\n",
    "- Store frame sequences with filenames for later training\n"
   ]
  },
  {
   "cell_type": "code",
   "execution_count": null,
   "id": "72d8bcff",
   "metadata": {},
   "outputs": [],
   "source": [
    "# Step 1: Import required libraries\n",
    "import cv2\n",
    "import os\n",
    "from pathlib import Path\n"
   ]
  },
  {
   "cell_type": "code",
   "execution_count": null,
   "id": "365c40ab",
   "metadata": {},
   "outputs": [],
   "source": [
    "# Step 2: Define function to extract frames\n",
    "\n",
    "def extract_frames(video_path, output_folder, frame_rate=5):\n",
    "    vidcap = cv2.VideoCapture(str(video_path))\n",
    "    success, image = vidcap.read()\n",
    "    count = 0\n",
    "    saved = 0\n",
    "\n",
    "    output_folder = Path(output_folder)\n",
    "    output_folder.mkdir(parents=True, exist_ok=True)\n",
    "\n",
    "    while success:\n",
    "        if int(vidcap.get(1)) % frame_rate == 0:\n",
    "            frame_filename = output_folder / f\"frame_{saved:04d}.jpg\"\n",
    "            cv2.imwrite(str(frame_filename), image)\n",
    "            saved += 1\n",
    "        success, image = vidcap.read()\n",
    "        count += 1\n",
    "\n",
    "    vidcap.release()\n",
    "    print(f\"Extracted {saved} frames from {video_path.name} into {output_folder}\")\n"
   ]
  },
  {
   "cell_type": "code",
   "execution_count": null,
   "id": "84a6f4e6",
   "metadata": {},
   "outputs": [],
   "source": [
    "# Step 3: Use the function on a sample video\n",
    "\n",
    "# Change this path to your actual video file\n",
    "sample_video_path = Path('../data/videos/sample_video.mp4')\n",
    "output_frames_dir = Path('../data/frames/sample_video')\n",
    "\n",
    "extract_frames(sample_video_path, output_frames_dir, frame_rate=5)\n"
   ]
  },
  {
   "cell_type": "code",
   "execution_count": null,
   "id": "678f6a33",
   "metadata": {},
   "outputs": [],
   "source": [
    "# Step 4: Verify frame extraction\n",
    "\n",
    "from IPython.display import Image, display\n",
    "import glob\n",
    "\n",
    "# Display a few extracted frames\n",
    "frame_files = sorted(glob.glob(str(output_frames_dir / '*.jpg')))\n",
    "for frame_file in frame_files[:3]:\n",
    "    display(Image(filename=frame_file))\n"
   ]
  }
 ],
 "metadata": {},
 "nbformat": 4,
 "nbformat_minor": 5
}
