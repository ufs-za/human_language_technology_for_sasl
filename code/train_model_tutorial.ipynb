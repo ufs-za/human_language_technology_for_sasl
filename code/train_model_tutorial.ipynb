{
 "cells": [
  {
   "cell_type": "markdown",
   "id": "422a745e",
   "metadata": {},
   "source": [
    "# Train a SASL Sign Recognition Model"
   ]
  },
  {
   "cell_type": "code",
   "execution_count": null,
   "id": "fdf5e52b",
   "metadata": {},
   "outputs": [],
   "source": [
    "\n",
    "In this notebook, we will train a CNN+LSTM model for SASL sign classification\n",
    "using preprocessed frame sequences and their aligned gloss labels.\n",
    "\n",
    "### Objectives:\n",
    "- Load preprocessed image sequence data and labels\n",
    "- Train a CNN+LSTM model\n",
    "- Evaluate performance and save the model\n"
   ]
  },
  {
   "cell_type": "code",
   "execution_count": null,
   "id": "93633ea6",
   "metadata": {},
   "outputs": [],
   "source": [
    "# Step 1: Import libraries\n",
    "import numpy as np\n",
    "import tensorflow as tf\n",
    "from tensorflow.keras.utils import to_categorical\n",
    "from sklearn.model_selection import train_test_split\n",
    "from tensorflow.keras.models import load_model\n"
   ]
  },
  {
   "cell_type": "code",
   "execution_count": null,
   "id": "6dff30a6",
   "metadata": {},
   "outputs": [],
   "source": [
    "# Step 2: Load preprocessed dataset (example)\n",
    "\n",
    "# Simulate data: (samples, time_steps, height, width, channels)\n",
    "num_samples = 100\n",
    "time_steps = 10\n",
    "height, width, channels = 64, 64, 1\n",
    "num_classes = 20\n",
    "\n",
    "X = np.random.rand(num_samples, time_steps, height, width, channels)\n",
    "y = to_categorical(np.random.randint(0, num_classes, size=(num_samples,)), num_classes)\n",
    "\n",
    "# Split into train/test\n",
    "X_train, X_test, y_train, y_test = train_test_split(X, y, test_size=0.2, random_state=42)\n"
   ]
  },
  {
   "cell_type": "code",
   "execution_count": null,
   "id": "fa021adb",
   "metadata": {},
   "outputs": [],
   "source": [
    "# Step 3: Load pre-defined model architecture (from previous notebook)\n",
    "\n",
    "model = tf.keras.models.load_model('cnn_lstm_sign_model.h5')\n",
    "model.summary()\n"
   ]
  },
  {
   "cell_type": "code",
   "execution_count": null,
   "id": "afde55b1",
   "metadata": {},
   "outputs": [],
   "source": [
    "# Step 4: Train the model\n",
    "\n",
    "history = model.fit(\n",
    "    X_train, y_train,\n",
    "    epochs=10,\n",
    "    batch_size=8,\n",
    "    validation_data=(X_test, y_test)\n",
    ")\n"
   ]
  },
  {
   "cell_type": "code",
   "execution_count": null,
   "id": "d87704f8",
   "metadata": {},
   "outputs": [],
   "source": [
    "# Step 5: Evaluate and save the model\n",
    "\n",
    "loss, acc = model.evaluate(X_test, y_test)\n",
    "print(f\"Test Accuracy: {acc*100:.2f}%\")\n",
    "\n",
    "trained_model_path = \"trained_sasl_sign_model.h5\"\n",
    "model.save(trained_model_path)\n",
    "print(f\"Trained model saved to {trained_model_path}\")\n"
   ]
  }
 ],
 "metadata": {},
 "nbformat": 4,
 "nbformat_minor": 5
}
