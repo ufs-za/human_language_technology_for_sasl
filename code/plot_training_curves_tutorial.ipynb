{
 "cells": [
  {
   "cell_type": "markdown",
   "id": "a4e3f0dc",
   "metadata": {},
   "source": [
    "# Plot Training Curves for SASL Model"
   ]
  },
  {
   "cell_type": "code",
   "execution_count": null,
   "id": "e66e14b3",
   "metadata": {},
   "outputs": [],
   "source": [
    "\n",
    "In this notebook, we visualise the training and validation performance of a SASL model.\n",
    "We'll generate plots for accuracy and loss over training epochs.\n",
    "\n",
    "### Objectives:\n",
    "- Load training history (saved or returned from `model.fit`)\n",
    "- Plot accuracy and loss curves\n",
    "- Diagnose overfitting or underfitting\n"
   ]
  },
  {
   "cell_type": "code",
   "execution_count": null,
   "id": "41130c53",
   "metadata": {},
   "outputs": [],
   "source": [
    "# Step 1: Import libraries\n",
    "import matplotlib.pyplot as plt\n",
    "import json\n",
    "import os\n"
   ]
  },
  {
   "cell_type": "code",
   "execution_count": null,
   "id": "fd5f2d61",
   "metadata": {},
   "outputs": [],
   "source": [
    "# Step 2: Simulate a training history (or load from a .json)\n",
    "\n",
    "# Normally you'd save `history.history` to a file after training.\n",
    "# For demo purposes, we simulate one:\n",
    "history = {\n",
    "    'accuracy': [0.60, 0.72, 0.78, 0.83, 0.86],\n",
    "    'val_accuracy': [0.58, 0.69, 0.74, 0.79, 0.81],\n",
    "    'loss': [1.2, 0.9, 0.7, 0.5, 0.4],\n",
    "    'val_loss': [1.3, 1.0, 0.8, 0.6, 0.5]\n",
    "}\n"
   ]
  },
  {
   "cell_type": "code",
   "execution_count": null,
   "id": "f5391738",
   "metadata": {},
   "outputs": [],
   "source": [
    "# Step 3: Plot accuracy over epochs\n",
    "\n",
    "plt.figure(figsize=(8, 5))\n",
    "plt.plot(history['accuracy'], label='Train Accuracy')\n",
    "plt.plot(history['val_accuracy'], label='Val Accuracy')\n",
    "plt.xlabel('Epoch')\n",
    "plt.ylabel('Accuracy')\n",
    "plt.title('Training and Validation Accuracy')\n",
    "plt.legend()\n",
    "plt.grid(True)\n",
    "plt.tight_layout()\n",
    "plt.show()\n"
   ]
  },
  {
   "cell_type": "code",
   "execution_count": null,
   "id": "e8777d19",
   "metadata": {},
   "outputs": [],
   "source": [
    "# Step 4: Plot loss over epochs\n",
    "\n",
    "plt.figure(figsize=(8, 5))\n",
    "plt.plot(history['loss'], label='Train Loss')\n",
    "plt.plot(history['val_loss'], label='Val Loss')\n",
    "plt.xlabel('Epoch')\n",
    "plt.ylabel('Loss')\n",
    "plt.title('Training and Validation Loss')\n",
    "plt.legend()\n",
    "plt.grid(True)\n",
    "plt.tight_layout()\n",
    "plt.show()\n"
   ]
  }
 ],
 "metadata": {},
 "nbformat": 4,
 "nbformat_minor": 5
}
