{
 "cells": [
  {
   "cell_type": "markdown",
   "id": "5e46f70a",
   "metadata": {},
   "source": [
    "# Align Gloss Annotations with Video Frames"
   ]
  },
  {
   "cell_type": "code",
   "execution_count": null,
   "id": "d85ab888",
   "metadata": {},
   "outputs": [],
   "source": [
    "\n",
    "This tutorial shows how to align time-stamped gloss annotations with extracted video frames.\n",
    "It is a critical step for supervised training, where each frame needs to be labelled with the corresponding gloss.\n",
    "\n",
    "### Objectives:\n",
    "- Load gloss annotations with timestamps\n",
    "- Map frames to glosses based on frame time\n",
    "- Save an aligned metadata file\n"
   ]
  },
  {
   "cell_type": "code",
   "execution_count": null,
   "id": "f2d99d42",
   "metadata": {},
   "outputs": [],
   "source": [
    "# Step 1: Import libraries\n",
    "import pandas as pd\n",
    "from pathlib import Path\n",
    "import math\n"
   ]
  },
  {
   "cell_type": "code",
   "execution_count": null,
   "id": "2dcbde38",
   "metadata": {},
   "outputs": [],
   "source": [
    "# Step 2: Load annotation and frame information\n",
    "\n",
    "# Annotation CSV must have 'timestamp' (in seconds) and 'gloss'\n",
    "annotations_path = Path('../data/annotations/sample_video_annotations.csv')\n",
    "annotations = pd.read_csv(annotations_path)\n",
    "\n",
    "# Assume fixed frame rate and ordered frame list\n",
    "frame_dir = Path('../data/frames/sample_video')\n",
    "frame_files = sorted(frame_dir.glob('*.jpg'))  # Ensure sequential order\n",
    "\n",
    "frame_rate = 5  # frames per second (same used during extraction)\n",
    "frame_timestamps = [i / frame_rate for i in range(len(frame_files))]\n",
    "\n",
    "# Add a column for the corresponding gloss\n",
    "aligned = pd.DataFrame({'frame_file': [f.name for f in frame_files], 'timestamp': frame_timestamps})\n",
    "aligned['gloss'] = None\n"
   ]
  },
  {
   "cell_type": "code",
   "execution_count": null,
   "id": "5cfcfbe1",
   "metadata": {},
   "outputs": [],
   "source": [
    "# Step 3: Align each frame with nearest annotation (based on timestamp)\n",
    "\n",
    "for idx, row in annotations.iterrows():\n",
    "    gloss_time = row['timestamp']\n",
    "    gloss_label = row['gloss']\n",
    "    nearest_frame_idx = min(range(len(frame_timestamps)), key=lambda i: abs(frame_timestamps[i] - gloss_time))\n",
    "    aligned.at[nearest_frame_idx, 'gloss'] = gloss_label\n",
    "\n",
    "# Forward fill glosses (optional for continuous gloss application)\n",
    "aligned['gloss'].fillna(method='ffill', inplace=True)\n",
    "\n",
    "aligned.head(10)\n"
   ]
  },
  {
   "cell_type": "code",
   "execution_count": null,
   "id": "f257927e",
   "metadata": {},
   "outputs": [],
   "source": [
    "# Step 4: Save the aligned metadata\n",
    "\n",
    "output_csv = Path('../data/processed_alignments/sample_video_gloss_aligned.csv')\n",
    "output_csv.parent.mkdir(parents=True, exist_ok=True)\n",
    "aligned.to_csv(output_csv, index=False)\n",
    "\n",
    "print(f\"Aligned annotation file saved to: {output_csv}\")\n"
   ]
  }
 ],
 "metadata": {},
 "nbformat": 4,
 "nbformat_minor": 5
}
